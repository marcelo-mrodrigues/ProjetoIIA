{
 "cells": [
  {
   "cell_type": "markdown",
   "id": "b3af0fc5",
   "metadata": {},
   "source": [
    "CÉLULA DE MARKDOWN EXEMPLO\n",
    "\n",
    "## Explicação ##\n",
    "\n",
    "* anotar textos/ apresentar\n",
    "\n",
    "favor rodar{ pip install -r requirements.txt }"
   ]
  },
  {
   "cell_type": "code",
   "execution_count": null,
   "id": "86829261",
   "metadata": {},
   "outputs": [],
   "source": [
    "#Célula de código\n",
    "!pip install geopy #comentar essa linha depois de rodar primeira vez, não me pergunte o pq\n",
    "import pandas as pd\n",
    "from geopy.distance import geodesic"
   ]
  }
 ],
 "metadata": {
  "kernelspec": {
   "display_name": "Python 3",
   "language": "python",
   "name": "python3"
  },
  "language_info": {
   "codemirror_mode": {
    "name": "ipython",
    "version": 3
   },
   "file_extension": ".py",
   "mimetype": "text/x-python",
   "name": "python",
   "nbconvert_exporter": "python",
   "pygments_lexer": "ipython3",
   "version": "3.13.1"
  }
 },
 "nbformat": 4,
 "nbformat_minor": 5
}
