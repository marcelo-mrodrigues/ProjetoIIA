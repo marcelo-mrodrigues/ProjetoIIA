{
 "cells": [
  {
   "cell_type": "markdown",
   "id": "b3af0fc5",
   "metadata": {},
   "source": [
    "CÉLULA DE MARKDOWN EXEMPLO\n",
    "\n",
    "## Projeto IIA ##\n",
    "* Professor Díbio , Turma 01 , 2025.1\n",
    "\n",
    "# Autores: #\n",
    "* Marcelo Marques Rodrigues - 221018960\n",
    "\n",
    "favor rodar{ pip install -r requirements.txt }"
   ]
  },
  {
   "cell_type": "markdown",
   "id": "321c74dd",
   "metadata": {},
   "source": [
    "## Parte 1: Processar Geolocalizações e Mostrar em Mapa ##"
   ]
  },
  {
   "cell_type": "code",
   "execution_count": 30,
   "id": "86829261",
   "metadata": {},
   "outputs": [],
   "source": [
    "\n",
    "import os\n",
    "import pandas as pd\n",
    "from geopy.distance import geodesic"
   ]
  },
  {
   "cell_type": "markdown",
   "id": "91f182c4",
   "metadata": {},
   "source": [
    "\n",
    "Processamos o Dataset"
   ]
  },
  {
   "cell_type": "code",
   "execution_count": 31,
   "id": "745270d3",
   "metadata": {},
   "outputs": [
    {
     "name": "stdout",
     "output_type": "stream",
     "text": [
      "Dataframe Carregado\n",
      "                                     Nome_Associacao  \\\n",
      "0  Associação de Agricultores Familiares da Eco C...   \n",
      "1  Associação Agrícola do Distrito Federal e Ride...   \n",
      "2  Associação Mista dos Agricultores Familiares, ...   \n",
      "3  Associação dos Produtores da Agricultura Famil...   \n",
      "4  Associação dos Produtores Rurais de Alexandre ...   \n",
      "5  Associação dos Produtores de Hortigranjeiros d...   \n",
      "\n",
      "  Localidade_Principal_Projeto  Latitude  Longitude  \n",
      "0                São Sebastião -15.88007  -47.77402  \n",
      "1                   Taguatinga -15.83322  -48.05677  \n",
      "2                  Santa Maria -16.00157  -47.98586  \n",
      "3                        Guará -15.81459  -47.98497  \n",
      "4                   Brazlândia -15.67693  -48.20507  \n",
      "5                         Gama -16.01609  -48.07178  \n",
      "\n",
      " Número Total de Associações: 17\n"
     ]
    }
   ],
   "source": [
    "caminho_arquivo_csv = os.path.join( \"..\", \"data\", \"associacoes_geocoords.csv\" )\n",
    "\n",
    "try:\n",
    "    df_associacoes = pd.read_csv(caminho_arquivo_csv)\n",
    "\n",
    "except FileNotFoundError:\n",
    "    print('Arquivo .csv não encontrado! Verifique o Diretório')\n",
    "    df_associacoes = pd.DataFrame( columns=['Nome_Associacao', 'Localidade_Principal_Projeto', 'Latitude', 'Longitude'] )\n",
    "\n",
    "print(\"Dataframe Carregado\")\n",
    "print(df_associacoes.head(6))\n",
    "print(f'\\n Número Total de Associações: {len(df_associacoes)}')"
   ]
  },
  {
   "cell_type": "markdown",
   "id": "cf80b6ec",
   "metadata": {},
   "source": [
    "Calculamos distância e encontramos as associações mais próximas comparadas à entrada do usuário"
   ]
  },
  {
   "cell_type": "code",
   "execution_count": 32,
   "id": "b350c07c",
   "metadata": {},
   "outputs": [],
   "source": [
    "def calcular_distancia_km(coord_usuario, coord_associacao): # calculamos a distancia por coordenadas do usuario com a associação\n",
    "\n",
    "    if None in coord_usuario or pd.isna(coord_usuario[0]) or pd.isna(coord_usuario[1]) or \\\n",
    "       None in coord_associacao or pd.isna(coord_associacao[0]) or pd.isna(coord_associacao[1]):\n",
    "        return float('inf') # retorna infinito se a coordenada do usuária for none ou nan\n",
    "    \n",
    "    return geodesic(coord_usuario, coord_associacao).km\n",
    "\n",
    "def encontrar_associacoes_proximas( df_associacoes, coord_usuario_lat, coord_usuario_lon, max_distancia_km=None, top_n=None):\n",
    "    \n",
    "    if df_associacoes.empty:\n",
    "        print(\" DataFrame vazio. Não há associação para encontrar\" )\n",
    "        return pd.DataFrame()\n",
    "\n",
    "    coord_usuario = (coord_usuario_lat, coord_usuario_lon)\n",
    "\n",
    "    df_resultado = df_associacoes.copy()\n",
    "\n",
    "    df_resultado['Latitude'] = pd.to_numeric(df_resultado['Latitude'], errors='coerce') # tratamento\n",
    "    df_resultado['Longitude'] = pd.to_numeric(df_resultado['Longitude'], errors='coerce') #tratamento\n",
    "    df_resultado['Distancia_km'] = df_resultado.apply(\n",
    "        lambda row: calcular_distancia_km(coord_usuario, (row['Latitude'], row['Longitude'])), # lambda permite calcular todas as dis^tanias\n",
    "        axis=1\n",
    "    )\n",
    "\n",
    "    df_resultado = df_resultado.sort_values(by='Distancia_km') # sort\n",
    "\n",
    "    if max_distancia_km is not None:\n",
    "        df_resultado = df_resultado[df_resultado['Distancia_km'] <= max_distancia_km]\n",
    "    if top_n is not None: # melhores N recomendações\n",
    "        df_resultado = df_resultado.head(top_n)\n",
    "\n",
    "    return df_resultado"
   ]
  },
  {
   "cell_type": "markdown",
   "id": "2333e574",
   "metadata": {},
   "source": [
    "Teste da função"
   ]
  },
  {
   "cell_type": "code",
   "execution_count": null,
   "id": "3f999e58",
   "metadata": {},
   "outputs": [
    {
     "name": "stdout",
     "output_type": "stream",
     "text": [
      "\n",
      " Associações encontradas perto de (-15.7942287, -47.8821658):\n",
      "                                      Nome_Associacao  \\\n",
      "11  Cooperativa dos Produtores Rurais de Planaltin...   \n",
      "3   Associação dos Produtores da Agricultura Famil...   \n",
      "8   Associação dos Trabalhadores Rurais da Agricul...   \n",
      "10  Cooperativa Agrícola Buriti Vermelho (Cooper-H...   \n",
      "0   Associação de Agricultores Familiares da Eco C...   \n",
      "16  Cooperativa de Serviços Ambientais, Agricultur...   \n",
      "1   Associação Agrícola do Distrito Federal e Ride...   \n",
      "\n",
      "   Localidade_Principal_Projeto  Distancia_km  \n",
      "11                 Plano Piloto      0.000040  \n",
      "3                         Guará     11.242316  \n",
      "8                         Guará     11.242316  \n",
      "10                      Paranoá     11.268807  \n",
      "0                 São Sebastião     14.981120  \n",
      "16                   Sobradinho     18.374264  \n",
      "1                    Taguatinga     19.197024  \n",
      "\n",
      "--------------------------------------------------\n",
      "\n",
      "🌟 Top 3 associações mais próximas de (-15.7942287, -47.8821658):\n",
      "                                      Nome_Associacao  \\\n",
      "11  Cooperativa dos Produtores Rurais de Planaltin...   \n",
      "3   Associação dos Produtores da Agricultura Famil...   \n",
      "8   Associação dos Trabalhadores Rurais da Agricul...   \n",
      "\n",
      "   Localidade_Principal_Projeto  Distancia_km  \n",
      "11                 Plano Piloto      0.000040  \n",
      "3                         Guará     11.242316  \n",
      "8                         Guará     11.242316  \n"
     ]
    }
   ],
   "source": [
    "lat_usuario = -15.7942287 #teste meio de brasília\n",
    "lon_usuario = -47.8821658\n",
    "\n",
    "\n",
    "associacoes_proximas = encontrar_associacoes_proximas(\n",
    "    df_associacoes,\n",
    "    lat_usuario,\n",
    "    lon_usuario,\n",
    "    max_distancia_km= 20, # raio do filtro\n",
    ")\n",
    "\n",
    "if not associacoes_proximas.empty:\n",
    "    print(f\"\\n Associações encontradas perto de ({lat_usuario}, {lon_usuario}):\")\n",
    "    colunas_para_mostrar = ['Nome_Associacao', \n",
    "                            'Localidade_Principal_Projeto',\n",
    "                            'Distancia_km']\n",
    "    print(associacoes_proximas[colunas_para_mostrar])\n",
    "else:\n",
    "\n",
    "    print(f\"\\nNenhuma associação encontrada dentro dos critérios perto do usuário.\")\n",
    "\n",
    "# Exemplo sem filtro de distância máxima, apenas as 3 mais próximas\n",
    "print(\"\\n--------------------------------------------------\")\n",
    "associacoes_topn = encontrar_associacoes_proximas (\n",
    "    df_associacoes,\n",
    "    lat_usuario,\n",
    "    lon_usuario,\n",
    "    top_n = 3\n",
    ")\n",
    "\n",
    "if not associacoes_topn.empty:\n",
    "    print(f\"\\n Top 3 associações mais próximas de ({lat_usuario}, {lon_usuario}):\")\n",
    "    colunas_para_mostrar = ['Nome_Associacao', 'Localidade_Principal_Projeto', 'Distancia_km',]\n",
    "    print(associacoes_topn[colunas_para_mostrar])\n",
    "else:\n",
    "    print(f\"\\nNenhuma associação encontrada perto do usuário.\")"
   ]
  }
 ],
 "metadata": {
  "kernelspec": {
   "display_name": ".venv",
   "language": "python",
   "name": "python3"
  },
  "language_info": {
   "codemirror_mode": {
    "name": "ipython",
    "version": 3
   },
   "file_extension": ".py",
   "mimetype": "text/x-python",
   "name": "python",
   "nbconvert_exporter": "python",
   "pygments_lexer": "ipython3",
   "version": "3.12.3"
  }
 },
 "nbformat": 4,
 "nbformat_minor": 5
}
