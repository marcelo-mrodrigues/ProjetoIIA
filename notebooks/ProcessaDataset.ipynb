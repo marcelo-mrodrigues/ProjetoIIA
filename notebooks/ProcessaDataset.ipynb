{
 "cells": [
  {
   "cell_type": "markdown",
   "id": "b3af0fc5",
   "metadata": {},
   "source": [
    "CÉLULA DE MARKDOWN EXEMPLO\n",
    "\n",
    "## Projeto IIA ##\n",
    "* Professor Díbio , Turma 01 , 2025.1\n",
    "\n",
    "# Autores: #\n",
    "* Marcelo Marques Rodrigues - 221018960\n",
    "\n",
    "favor rodar{ pip install -r requirements.txt }"
   ]
  },
  {
   "cell_type": "code",
   "execution_count": null,
   "id": "86829261",
   "metadata": {},
   "outputs": [
    {
     "name": "stdout",
     "output_type": "stream",
     "text": [
      "Requirement already satisfied: geopy in /home/marcelo/ProjetoIIA/.venv/lib/python3.12/site-packages (2.4.1)\n",
      "Requirement already satisfied: geographiclib<3,>=1.52 in /home/marcelo/ProjetoIIA/.venv/lib/python3.12/site-packages (from geopy) (2.0)\n",
      "Hello World\n"
     ]
    }
   ],
   "source": [
    "\n",
    "import pandas as pd\n",
    "from geopy.distance import geodesic"
   ]
  }
 ],
 "metadata": {
  "kernelspec": {
   "display_name": ".venv",
   "language": "python",
   "name": "python3"
  },
  "language_info": {
   "codemirror_mode": {
    "name": "ipython",
    "version": 3
   },
   "file_extension": ".py",
   "mimetype": "text/x-python",
   "name": "python",
   "nbconvert_exporter": "python",
   "pygments_lexer": "ipython3",
   "version": "3.12.3"
  }
 },
 "nbformat": 4,
 "nbformat_minor": 5
}
